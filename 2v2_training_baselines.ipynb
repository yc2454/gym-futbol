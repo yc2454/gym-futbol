{
  "nbformat": 4,
  "nbformat_minor": 0,
  "metadata": {
    "colab": {
      "name": "2v2_training_baselines.ipynb",
      "provenance": [],
      "collapsed_sections": [],
      "toc_visible": true,
      "include_colab_link": true
    },
    "kernelspec": {
      "name": "python3",
      "display_name": "Python 3"
    },
    "accelerator": "GPU"
  },
  "cells": [
    {
      "cell_type": "markdown",
      "metadata": {
        "id": "view-in-github",
        "colab_type": "text"
      },
      "source": [
        "<a href=\"https://colab.research.google.com/github/yc2454/gym-futbol/blob/master/2v2_training_baselines.ipynb\" target=\"_parent\"><img src=\"https://colab.research.google.com/assets/colab-badge.svg\" alt=\"Open In Colab\"/></a>"
      ]
    },
    {
      "cell_type": "markdown",
      "metadata": {
        "id": "yaU3LVqXB4zm",
        "colab_type": "text"
      },
      "source": [
        "# git & pip"
      ]
    },
    {
      "cell_type": "code",
      "metadata": {
        "id": "WZmf2eOUTDd6",
        "colab_type": "code",
        "outputId": "0c1c83e7-2f7b-4c4e-81d4-0ec43303514d",
        "colab": {
          "base_uri": "https://localhost:8080/",
          "height": 136
        }
      },
      "source": [
        "! git clone https://github.com/yc2454/gym-futbol.git"
      ],
      "execution_count": 0,
      "outputs": [
        {
          "output_type": "stream",
          "text": [
            "Cloning into 'gym-futbol'...\n",
            "remote: Enumerating objects: 67, done.\u001b[K\n",
            "remote: Counting objects: 100% (67/67), done.\u001b[K\n",
            "remote: Compressing objects: 100% (46/46), done.\u001b[K\n",
            "remote: Total 1531 (delta 33), reused 45 (delta 20), pack-reused 1464\u001b[K\n",
            "Receiving objects: 100% (1531/1531), 77.11 MiB | 23.20 MiB/s, done.\n",
            "Resolving deltas: 100% (819/819), done.\n"
          ],
          "name": "stdout"
        }
      ]
    },
    {
      "cell_type": "code",
      "metadata": {
        "id": "-TDOX9hlUetB",
        "colab_type": "code",
        "outputId": "2750f6d3-eb58-4436-a8f9-383f7fc89519",
        "colab": {
          "base_uri": "https://localhost:8080/",
          "height": 34
        }
      },
      "source": [
        "%cd /content/gym-futbol/"
      ],
      "execution_count": 0,
      "outputs": [
        {
          "output_type": "stream",
          "text": [
            "/content/gym-futbol\n"
          ],
          "name": "stdout"
        }
      ]
    },
    {
      "cell_type": "code",
      "metadata": {
        "id": "m4wuaLVlV9LU",
        "colab_type": "code",
        "outputId": "016addf3-2e13-4d99-8a4d-76b87afce864",
        "colab": {
          "base_uri": "https://localhost:8080/",
          "height": 51
        }
      },
      "source": [
        "! git checkout master"
      ],
      "execution_count": 0,
      "outputs": [
        {
          "output_type": "stream",
          "text": [
            "Already on 'master'\n",
            "Your branch is up to date with 'origin/master'.\n"
          ],
          "name": "stdout"
        }
      ]
    },
    {
      "cell_type": "code",
      "metadata": {
        "id": "VCZFZcHm0l6X",
        "colab_type": "code",
        "outputId": "67df790d-1ac5-480b-c053-8be95b77168a",
        "colab": {
          "base_uri": "https://localhost:8080/",
          "height": 34
        }
      },
      "source": [
        "! git pull"
      ],
      "execution_count": 0,
      "outputs": [
        {
          "output_type": "stream",
          "text": [
            "Already up to date.\n"
          ],
          "name": "stdout"
        }
      ]
    },
    {
      "cell_type": "code",
      "metadata": {
        "id": "mrxUMw4cUmcl",
        "colab_type": "code",
        "outputId": "cc94d3a4-f4ac-4aae-ed81-c91edeb7e46f",
        "colab": {
          "base_uri": "https://localhost:8080/",
          "height": 289
        }
      },
      "source": [
        "! pip install -e ."
      ],
      "execution_count": 0,
      "outputs": [
        {
          "output_type": "stream",
          "text": [
            "Obtaining file:///content/gym-futbol\n",
            "Requirement already satisfied: gym in /usr/local/lib/python3.6/dist-packages (from gym-futbol==1.0.1) (0.17.1)\n",
            "Collecting pymunk\n",
            "\u001b[?25l  Downloading https://files.pythonhosted.org/packages/80/0f/25a65edbda2d7d72c28ab150292c85293896183bf5e16cffc8e3608b8934/pymunk-5.6.0-py2.py3-none-manylinux1_x86_64.whl (535kB)\n",
            "\u001b[K     |████████████████████████████████| 542kB 4.7MB/s \n",
            "\u001b[?25hRequirement already satisfied: numpy>=1.10.4 in /usr/local/lib/python3.6/dist-packages (from gym->gym-futbol==1.0.1) (1.18.4)\n",
            "Requirement already satisfied: six in /usr/local/lib/python3.6/dist-packages (from gym->gym-futbol==1.0.1) (1.12.0)\n",
            "Requirement already satisfied: cloudpickle<1.4.0,>=1.2.0 in /usr/local/lib/python3.6/dist-packages (from gym->gym-futbol==1.0.1) (1.3.0)\n",
            "Requirement already satisfied: scipy in /usr/local/lib/python3.6/dist-packages (from gym->gym-futbol==1.0.1) (1.4.1)\n",
            "Requirement already satisfied: pyglet<=1.5.0,>=1.4.0 in /usr/local/lib/python3.6/dist-packages (from gym->gym-futbol==1.0.1) (1.5.0)\n",
            "Requirement already satisfied: cffi!=1.13.1 in /usr/local/lib/python3.6/dist-packages (from pymunk->gym-futbol==1.0.1) (1.14.0)\n",
            "Requirement already satisfied: future in /usr/local/lib/python3.6/dist-packages (from pyglet<=1.5.0,>=1.4.0->gym->gym-futbol==1.0.1) (0.16.0)\n",
            "Requirement already satisfied: pycparser in /usr/local/lib/python3.6/dist-packages (from cffi!=1.13.1->pymunk->gym-futbol==1.0.1) (2.20)\n",
            "Installing collected packages: pymunk, gym-futbol\n",
            "  Running setup.py develop for gym-futbol\n",
            "Successfully installed gym-futbol pymunk-5.6.0\n"
          ],
          "name": "stdout"
        }
      ]
    },
    {
      "cell_type": "code",
      "metadata": {
        "id": "ywunLbrsUxyC",
        "colab_type": "code",
        "outputId": "7d4ef186-f97f-45fe-9693-72885e612ceb",
        "colab": {
          "base_uri": "https://localhost:8080/",
          "height": 102
        }
      },
      "source": [
        "%tensorflow_version 1.14"
      ],
      "execution_count": 0,
      "outputs": [
        {
          "output_type": "stream",
          "text": [
            "`%tensorflow_version` only switches the major version: 1.x or 2.x.\n",
            "You set: `1.14`. This will be interpreted as: `1.x`.\n",
            "\n",
            "\n",
            "TensorFlow 1.x selected.\n"
          ],
          "name": "stdout"
        }
      ]
    },
    {
      "cell_type": "code",
      "metadata": {
        "id": "fmCFeml6U1EZ",
        "colab_type": "code",
        "outputId": "896a4bcf-c88d-4e03-af1d-c7eed96a98ff",
        "colab": {
          "base_uri": "https://localhost:8080/",
          "height": 952
        }
      },
      "source": [
        "! pip install keras tensorflow gym numpy stable-baselines[mpi]==2.10.0"
      ],
      "execution_count": 0,
      "outputs": [
        {
          "output_type": "stream",
          "text": [
            "Requirement already satisfied: keras in /usr/local/lib/python3.6/dist-packages (2.3.1)\n",
            "Requirement already satisfied: tensorflow in /tensorflow-1.15.2/python3.6 (1.15.2)\n",
            "Requirement already satisfied: gym in /usr/local/lib/python3.6/dist-packages (0.17.1)\n",
            "Requirement already satisfied: numpy in /usr/local/lib/python3.6/dist-packages (1.18.4)\n",
            "Collecting stable-baselines[mpi]==2.10.0\n",
            "\u001b[?25l  Downloading https://files.pythonhosted.org/packages/e5/fe/db8159d4d79109c6c8942abe77c7ba6b6e008c32ae55870a35e73fa10db3/stable_baselines-2.10.0-py3-none-any.whl (248kB)\n",
            "\r\u001b[K     |█▎                              | 10kB 25.3MB/s eta 0:00:01\r\u001b[K     |██▋                             | 20kB 3.0MB/s eta 0:00:01\r\u001b[K     |████                            | 30kB 4.0MB/s eta 0:00:01\r\u001b[K     |█████▎                          | 40kB 4.4MB/s eta 0:00:01\r\u001b[K     |██████▋                         | 51kB 3.5MB/s eta 0:00:01\r\u001b[K     |████████                        | 61kB 3.9MB/s eta 0:00:01\r\u001b[K     |█████████▎                      | 71kB 4.3MB/s eta 0:00:01\r\u001b[K     |██████████▌                     | 81kB 4.7MB/s eta 0:00:01\r\u001b[K     |███████████▉                    | 92kB 5.1MB/s eta 0:00:01\r\u001b[K     |█████████████▏                  | 102kB 4.8MB/s eta 0:00:01\r\u001b[K     |██████████████▌                 | 112kB 4.8MB/s eta 0:00:01\r\u001b[K     |███████████████▉                | 122kB 4.8MB/s eta 0:00:01\r\u001b[K     |█████████████████▏              | 133kB 4.8MB/s eta 0:00:01\r\u001b[K     |██████████████████▌             | 143kB 4.8MB/s eta 0:00:01\r\u001b[K     |███████████████████▉            | 153kB 4.8MB/s eta 0:00:01\r\u001b[K     |█████████████████████           | 163kB 4.8MB/s eta 0:00:01\r\u001b[K     |██████████████████████▍         | 174kB 4.8MB/s eta 0:00:01\r\u001b[K     |███████████████████████▊        | 184kB 4.8MB/s eta 0:00:01\r\u001b[K     |█████████████████████████       | 194kB 4.8MB/s eta 0:00:01\r\u001b[K     |██████████████████████████▍     | 204kB 4.8MB/s eta 0:00:01\r\u001b[K     |███████████████████████████▊    | 215kB 4.8MB/s eta 0:00:01\r\u001b[K     |█████████████████████████████   | 225kB 4.8MB/s eta 0:00:01\r\u001b[K     |██████████████████████████████▍ | 235kB 4.8MB/s eta 0:00:01\r\u001b[K     |███████████████████████████████▋| 245kB 4.8MB/s eta 0:00:01\r\u001b[K     |████████████████████████████████| 256kB 4.8MB/s \n",
            "\u001b[?25hRequirement already satisfied: six>=1.9.0 in /usr/local/lib/python3.6/dist-packages (from keras) (1.12.0)\n",
            "Requirement already satisfied: h5py in /usr/local/lib/python3.6/dist-packages (from keras) (2.10.0)\n",
            "Requirement already satisfied: keras-applications>=1.0.6 in /usr/local/lib/python3.6/dist-packages (from keras) (1.0.8)\n",
            "Requirement already satisfied: keras-preprocessing>=1.0.5 in /usr/local/lib/python3.6/dist-packages (from keras) (1.1.0)\n",
            "Requirement already satisfied: pyyaml in /usr/local/lib/python3.6/dist-packages (from keras) (3.13)\n",
            "Requirement already satisfied: scipy>=0.14 in /usr/local/lib/python3.6/dist-packages (from keras) (1.4.1)\n",
            "Requirement already satisfied: termcolor>=1.1.0 in /usr/local/lib/python3.6/dist-packages (from tensorflow) (1.1.0)\n",
            "Requirement already satisfied: grpcio>=1.8.6 in /usr/local/lib/python3.6/dist-packages (from tensorflow) (1.28.1)\n",
            "Requirement already satisfied: wrapt>=1.11.1 in /usr/local/lib/python3.6/dist-packages (from tensorflow) (1.12.1)\n",
            "Requirement already satisfied: wheel>=0.26; python_version >= \"3\" in /usr/local/lib/python3.6/dist-packages (from tensorflow) (0.34.2)\n",
            "Requirement already satisfied: astor>=0.6.0 in /usr/local/lib/python3.6/dist-packages (from tensorflow) (0.8.1)\n",
            "Requirement already satisfied: google-pasta>=0.1.6 in /usr/local/lib/python3.6/dist-packages (from tensorflow) (0.2.0)\n",
            "Requirement already satisfied: protobuf>=3.6.1 in /usr/local/lib/python3.6/dist-packages (from tensorflow) (3.10.0)\n",
            "Requirement already satisfied: absl-py>=0.7.0 in /usr/local/lib/python3.6/dist-packages (from tensorflow) (0.9.0)\n",
            "Requirement already satisfied: tensorflow-estimator==1.15.1 in /tensorflow-1.15.2/python3.6 (from tensorflow) (1.15.1)\n",
            "Requirement already satisfied: tensorboard<1.16.0,>=1.15.0 in /tensorflow-1.15.2/python3.6 (from tensorflow) (1.15.0)\n",
            "Collecting gast==0.2.2\n",
            "  Downloading https://files.pythonhosted.org/packages/4e/35/11749bf99b2d4e3cceb4d55ca22590b0d7c2c62b9de38ac4a4a7f4687421/gast-0.2.2.tar.gz\n",
            "Requirement already satisfied: opt-einsum>=2.3.2 in /usr/local/lib/python3.6/dist-packages (from tensorflow) (3.2.1)\n",
            "Requirement already satisfied: cloudpickle<1.4.0,>=1.2.0 in /usr/local/lib/python3.6/dist-packages (from gym) (1.3.0)\n",
            "Requirement already satisfied: pyglet<=1.5.0,>=1.4.0 in /usr/local/lib/python3.6/dist-packages (from gym) (1.5.0)\n",
            "Requirement already satisfied: matplotlib in /usr/local/lib/python3.6/dist-packages (from stable-baselines[mpi]==2.10.0) (3.2.1)\n",
            "Requirement already satisfied: pandas in /usr/local/lib/python3.6/dist-packages (from stable-baselines[mpi]==2.10.0) (1.0.3)\n",
            "Requirement already satisfied: opencv-python in /usr/local/lib/python3.6/dist-packages (from stable-baselines[mpi]==2.10.0) (4.1.2.30)\n",
            "Requirement already satisfied: joblib in /usr/local/lib/python3.6/dist-packages (from stable-baselines[mpi]==2.10.0) (0.14.1)\n",
            "Requirement already satisfied: mpi4py; extra == \"mpi\" in /tensorflow-1.15.2/python3.6 (from stable-baselines[mpi]==2.10.0) (3.0.3)\n",
            "Requirement already satisfied: setuptools in /usr/local/lib/python3.6/dist-packages (from protobuf>=3.6.1->tensorflow) (46.3.0)\n",
            "Requirement already satisfied: markdown>=2.6.8 in /usr/local/lib/python3.6/dist-packages (from tensorboard<1.16.0,>=1.15.0->tensorflow) (3.2.1)\n",
            "Requirement already satisfied: werkzeug>=0.11.15 in /usr/local/lib/python3.6/dist-packages (from tensorboard<1.16.0,>=1.15.0->tensorflow) (1.0.1)\n",
            "Requirement already satisfied: future in /usr/local/lib/python3.6/dist-packages (from pyglet<=1.5.0,>=1.4.0->gym) (0.16.0)\n",
            "Requirement already satisfied: cycler>=0.10 in /usr/local/lib/python3.6/dist-packages (from matplotlib->stable-baselines[mpi]==2.10.0) (0.10.0)\n",
            "Requirement already satisfied: python-dateutil>=2.1 in /usr/local/lib/python3.6/dist-packages (from matplotlib->stable-baselines[mpi]==2.10.0) (2.8.1)\n",
            "Requirement already satisfied: kiwisolver>=1.0.1 in /usr/local/lib/python3.6/dist-packages (from matplotlib->stable-baselines[mpi]==2.10.0) (1.2.0)\n",
            "Requirement already satisfied: pyparsing!=2.0.4,!=2.1.2,!=2.1.6,>=2.0.1 in /usr/local/lib/python3.6/dist-packages (from matplotlib->stable-baselines[mpi]==2.10.0) (2.4.7)\n",
            "Requirement already satisfied: pytz>=2017.2 in /usr/local/lib/python3.6/dist-packages (from pandas->stable-baselines[mpi]==2.10.0) (2018.9)\n",
            "Building wheels for collected packages: gast\n",
            "  Building wheel for gast (setup.py) ... \u001b[?25l\u001b[?25hdone\n",
            "  Created wheel for gast: filename=gast-0.2.2-cp36-none-any.whl size=7540 sha256=5a149cf3670f0b6876c8e9f70476443354dbeb6b96c8db553653dbd64b9b811a\n",
            "  Stored in directory: /root/.cache/pip/wheels/5c/2e/7e/a1d4d4fcebe6c381f378ce7743a3ced3699feb89bcfbdadadd\n",
            "Successfully built gast\n",
            "Installing collected packages: stable-baselines, gast\n",
            "  Found existing installation: stable-baselines 2.2.1\n",
            "    Uninstalling stable-baselines-2.2.1:\n",
            "      Successfully uninstalled stable-baselines-2.2.1\n",
            "  Found existing installation: gast 0.3.3\n",
            "    Uninstalling gast-0.3.3:\n",
            "      Successfully uninstalled gast-0.3.3\n",
            "Successfully installed gast-0.2.2 stable-baselines-2.10.0\n"
          ],
          "name": "stdout"
        }
      ]
    },
    {
      "cell_type": "markdown",
      "metadata": {
        "id": "tzTiR0nkiNac",
        "colab_type": "text"
      },
      "source": [
        "# env"
      ]
    },
    {
      "cell_type": "code",
      "metadata": {
        "id": "WeYMOeMR4RVD",
        "colab_type": "code",
        "outputId": "9a138ecc-5c9a-4481-f7bb-1249574b36fc",
        "colab": {
          "base_uri": "https://localhost:8080/",
          "height": 122
        }
      },
      "source": [
        "from google.colab import drive\n",
        "drive.mount('/content/drive')"
      ],
      "execution_count": 0,
      "outputs": [
        {
          "output_type": "stream",
          "text": [
            "Go to this URL in a browser: https://accounts.google.com/o/oauth2/auth?client_id=947318989803-6bn6qk8qdgf4n4g3pfee6491hc0brc4i.apps.googleusercontent.com&redirect_uri=urn%3aietf%3awg%3aoauth%3a2.0%3aoob&response_type=code&scope=email%20https%3a%2f%2fwww.googleapis.com%2fauth%2fdocs.test%20https%3a%2f%2fwww.googleapis.com%2fauth%2fdrive%20https%3a%2f%2fwww.googleapis.com%2fauth%2fdrive.photos.readonly%20https%3a%2f%2fwww.googleapis.com%2fauth%2fpeopleapi.readonly\n",
            "\n",
            "Enter your authorization code:\n",
            "··········\n",
            "Mounted at /content/drive\n"
          ],
          "name": "stdout"
        }
      ]
    },
    {
      "cell_type": "code",
      "metadata": {
        "id": "M0SSndDb4dWz",
        "colab_type": "code",
        "outputId": "0979906c-4028-4c37-e4e6-949560d3f6bf",
        "colab": {
          "base_uri": "https://localhost:8080/",
          "height": 34
        }
      },
      "source": [
        "!pwd"
      ],
      "execution_count": 0,
      "outputs": [
        {
          "output_type": "stream",
          "text": [
            "/content/gym-futbol\n"
          ],
          "name": "stdout"
        }
      ]
    },
    {
      "cell_type": "code",
      "metadata": {
        "id": "dj195vmk4fPw",
        "colab_type": "code",
        "outputId": "fc5fd7ac-7dbb-4adb-f067-3c4735914346",
        "colab": {
          "base_uri": "https://localhost:8080/",
          "height": 34
        }
      },
      "source": [
        "%cd /content/drive/My\\ Drive"
      ],
      "execution_count": 0,
      "outputs": [
        {
          "output_type": "stream",
          "text": [
            "/content/drive/My Drive\n"
          ],
          "name": "stdout"
        }
      ]
    },
    {
      "cell_type": "code",
      "metadata": {
        "id": "olq9qIel4o76",
        "colab_type": "code",
        "colab": {}
      },
      "source": [
        "%mkdir cs4701"
      ],
      "execution_count": 0,
      "outputs": []
    },
    {
      "cell_type": "code",
      "metadata": {
        "id": "wbq7VVJu5AMc",
        "colab_type": "code",
        "outputId": "ac2ced2c-5bb0-4e49-9590-12726b5b8df4",
        "colab": {
          "base_uri": "https://localhost:8080/",
          "height": 34
        }
      },
      "source": [
        "%cd cs4701"
      ],
      "execution_count": 0,
      "outputs": [
        {
          "output_type": "stream",
          "text": [
            "/content/drive/My Drive/cs4701\n"
          ],
          "name": "stdout"
        }
      ]
    },
    {
      "cell_type": "markdown",
      "metadata": {
        "id": "oa1O7-LD1YKq",
        "colab_type": "text"
      },
      "source": [
        "## import"
      ]
    },
    {
      "cell_type": "code",
      "metadata": {
        "id": "pCsZCgmjibtD",
        "colab_type": "code",
        "outputId": "d4038083-4a23-4588-a388-daab1401ac63",
        "colab": {
          "base_uri": "https://localhost:8080/",
          "height": 34
        }
      },
      "source": [
        "import gym\n",
        "import gym_futbol, random\n",
        "import numpy as np\n",
        "\n",
        "from IPython.display import clear_output\n",
        "import matplotlib.pyplot as plt\n",
        "%matplotlib inline\n",
        "from IPython import display\n",
        "\n",
        "import pymunk\n",
        "from pymunk.vec2d import Vec2d\n",
        "import pymunk.matplotlib_util"
      ],
      "execution_count": 0,
      "outputs": [
        {
          "output_type": "stream",
          "text": [
            "Loading chipmunk for Linux (64bit) [/usr/local/lib/python3.6/dist-packages/pymunk/libchipmunk.so]\n"
          ],
          "name": "stdout"
        }
      ]
    },
    {
      "cell_type": "markdown",
      "metadata": {
        "id": "_yhAN3yD2gZQ",
        "colab_type": "text"
      },
      "source": [
        "## Test v1"
      ]
    },
    {
      "cell_type": "code",
      "metadata": {
        "id": "MDc-2-eHB8HJ",
        "colab_type": "code",
        "colab": {}
      },
      "source": [
        "# 2v2\n",
        "env = gym.make(\"Futbol2v2-v1\")"
      ],
      "execution_count": 0,
      "outputs": []
    },
    {
      "cell_type": "code",
      "metadata": {
        "id": "M5cDZXxZ3Dn-",
        "colab_type": "code",
        "outputId": "4f178053-0fd9-4135-f9a6-c5d5595a4224",
        "colab": {
          "base_uri": "https://localhost:8080/",
          "height": 265
        }
      },
      "source": [
        "env.render()"
      ],
      "execution_count": 0,
      "outputs": [
        {
          "output_type": "display_data",
          "data": {
            "image/png": "[encoded data removed]",
            "text/plain": [
              "<Figure size 432x288 with 1 Axes>"
            ]
          },
          "metadata": {
            "tags": [],
            "needs_background": "light"
          }
        }
      ]
    },
    {
      "cell_type": "code",
      "metadata": {
        "id": "KHRbncqa2_2o",
        "colab_type": "code",
        "colab": {}
      },
      "source": [
        "ob = env.reset()\n",
        "done = False\n",
        "total_reward = 0\n",
        "while not done:\n",
        "    action = np.reshape(env.random_action(), -1)\n",
        "    ob, reward, done, info = env.step(action)\n",
        "\n",
        "    plt.clf()\n",
        "    title_str = (\"reward : \" + str(reward))\n",
        "    padding = 5\n",
        "    ax = plt.axes(xlim=(0 - padding, env.width + padding), ylim=(0 - padding, env.height + padding))\n",
        "    ax.set_aspect(\"equal\")\n",
        "    o = pymunk.matplotlib_util.DrawOptions(ax)\n",
        "    env.space.debug_draw(o)\n",
        "    plt.title(title_str, loc = 'left')\n",
        "    display.display(plt.gcf())\n",
        "    display.clear_output(wait=True)\n",
        "\n",
        "    total_reward += reward"
      ],
      "execution_count": 0,
      "outputs": []
    },
    {
      "cell_type": "code",
      "metadata": {
        "id": "QSx7TxK73_Wd",
        "colab_type": "code",
        "outputId": "42f4a1c4-180a-4019-939e-b2027ba3fd67",
        "colab": {
          "base_uri": "https://localhost:8080/",
          "height": 34
        }
      },
      "source": [
        "total_reward"
      ],
      "execution_count": 0,
      "outputs": [
        {
          "output_type": "execute_result",
          "data": {
            "text/plain": [
              "79.14266257181981"
            ]
          },
          "metadata": {
            "tags": []
          },
          "execution_count": 23
        }
      ]
    },
    {
      "cell_type": "markdown",
      "metadata": {
        "id": "JO-FcVd11eeC",
        "colab_type": "text"
      },
      "source": [
        "# Baseline"
      ]
    },
    {
      "cell_type": "markdown",
      "metadata": {
        "id": "AqNUET7jDCQj",
        "colab_type": "text"
      },
      "source": [
        "## import"
      ]
    },
    {
      "cell_type": "code",
      "metadata": {
        "id": "Tx42wD6r2lQ8",
        "colab_type": "code",
        "outputId": "1ce83dbe-6b1a-4d7b-c7a4-f1b1ae0bd549",
        "colab": {
          "base_uri": "https://localhost:8080/",
          "height": 51
        }
      },
      "source": [
        "import os, time, gym\n",
        "from stable_baselines.common.policies import MlpPolicy, FeedForwardPolicy, register_policy\n",
        "from stable_baselines.common.vec_env import DummyVecEnv, SubprocVecEnv\n",
        "from stable_baselines.common import make_vec_env\n",
        "from stable_baselines import PPO2\n",
        "from stable_baselines.bench import Monitor\n",
        "from stable_baselines.common.env_checker import check_env\n",
        "from stable_baselines.common.callbacks import EvalCallback\n",
        "from stable_baselines.common.evaluation import evaluate_policy\n",
        "%load_ext tensorboard"
      ],
      "execution_count": 0,
      "outputs": [
        {
          "output_type": "stream",
          "text": [
            "The tensorboard extension is already loaded. To reload it, use:\n",
            "  %reload_ext tensorboard\n"
          ],
          "name": "stdout"
        }
      ]
    },
    {
      "cell_type": "code",
      "metadata": {
        "id": "B166PjAsslSF",
        "colab_type": "code",
        "colab": {}
      },
      "source": [
        "def action_key_string(action_key):\n",
        "      if action_key == 0: return \"noop \"\n",
        "      elif action_key == 1: return \"dash \"\n",
        "      elif action_key == 2: return \"shoot\"\n",
        "      elif action_key == 3: return \"press\"\n",
        "      elif action_key == 4: return \"pass \""
      ],
      "execution_count": 0,
      "outputs": []
    },
    {
      "cell_type": "code",
      "metadata": {
        "id": "Q93CZIsSs7J0",
        "colab_type": "code",
        "colab": {}
      },
      "source": [
        "def arrow_key_string(arrow_key):\n",
        "      if arrow_key == 0: return \"noop \"\n",
        "      elif arrow_key == 1: return \"up   \"\n",
        "      elif arrow_key == 2: return \"right\"\n",
        "      elif arrow_key == 3: return \"down \"\n",
        "      elif arrow_key == 4: return \"left \""
      ],
      "execution_count": 0,
      "outputs": []
    },
    {
      "cell_type": "code",
      "metadata": {
        "id": "wJp9AZlQ2pJI",
        "colab_type": "code",
        "colab": {}
      },
      "source": [
        "log_dir = \"/tmp/gym/{}\".format(int(time.time()))\n",
        "os.makedirs(log_dir, exist_ok=True)"
      ],
      "execution_count": 0,
      "outputs": []
    },
    {
      "cell_type": "code",
      "metadata": {
        "id": "Ls7rOnRz1gon",
        "colab_type": "code",
        "colab": {}
      },
      "source": [
        "env = gym.make(\"Futbol2v2-v1\")\n",
        "check_env(env, warn=True)"
      ],
      "execution_count": 0,
      "outputs": []
    },
    {
      "cell_type": "markdown",
      "metadata": {
        "id": "mxmn_TbqDREk",
        "colab_type": "text"
      },
      "source": [
        "## Training"
      ]
    },
    {
      "cell_type": "code",
      "metadata": {
        "id": "ynPijHdGK2P7",
        "colab_type": "code",
        "outputId": "a2eb8ece-0051-48be-d694-24332b38eb9c",
        "colab": {
          "base_uri": "https://localhost:8080/",
          "height": 34
        }
      },
      "source": [
        "%cd /content/"
      ],
      "execution_count": 0,
      "outputs": [
        {
          "output_type": "stream",
          "text": [
            "/content\n"
          ],
          "name": "stdout"
        }
      ]
    },
    {
      "cell_type": "code",
      "metadata": {
        "id": "_OaqfsXd5bVb",
        "colab_type": "code",
        "outputId": "f0749dbd-da20-42ce-b48f-f905a1cbc1b1",
        "colab": {
          "base_uri": "https://localhost:8080/",
          "height": 34
        }
      },
      "source": [
        "!pwd"
      ],
      "execution_count": 0,
      "outputs": [
        {
          "output_type": "stream",
          "text": [
            "/content/drive/My Drive/cs4701\n"
          ],
          "name": "stdout"
        }
      ]
    },
    {
      "cell_type": "code",
      "metadata": {
        "id": "7v1bJQKVAkFE",
        "colab_type": "code",
        "colab": {}
      },
      "source": [
        "# Custom MLP policy \n",
        "class CustomPolicy(FeedForwardPolicy):\n",
        "    def __init__(self, *args, **kwargs):\n",
        "        super(CustomPolicy, self).__init__(*args, **kwargs,\n",
        "                                           net_arch=[256, 256, dict(pi=[128, 128],\n",
        "                                                                    vf=[128, 128])],\n",
        "                                           feature_extraction=\"mlp\")"
      ],
      "execution_count": 0,
      "outputs": []
    },
    {
      "cell_type": "code",
      "metadata": {
        "id": "c5j8EIdBDeQM",
        "colab_type": "code",
        "colab": {}
      },
      "source": [
        "# Separate evaluation env\n",
        "eval_env = gym.make(\"Futbol2v2-v1\")\n",
        "# Use deterministic actions for evaluation\n",
        "eval_callback = EvalCallback(eval_env, best_model_save_path='./logs/',\n",
        "                             log_path='./logs/', eval_freq=10000, n_eval_episodes = 10,\n",
        "                             deterministic=True, render=False)"
      ],
      "execution_count": 0,
      "outputs": []
    },
    {
      "cell_type": "code",
      "metadata": {
        "id": "02WNL00F7SYw",
        "colab_type": "code",
        "colab": {}
      },
      "source": [
        "num_envs = 8\n",
        "env = gym.make(\"Futbol2v2-v1\")\n",
        "env = Monitor(env, log_dir, allow_early_resets=True)\n",
        "env = DummyVecEnv([lambda: env] * num_envs)"
      ],
      "execution_count": 0,
      "outputs": []
    },
    {
      "cell_type": "code",
      "metadata": {
        "id": "9Pa_dta_Tcj4",
        "colab_type": "code",
        "colab": {}
      },
      "source": [
        "model = PPO2(CustomPolicy, env, verbose=1, tensorboard_log=\"./PPO2_Futbol2v2_tensorboard/\")"
      ],
      "execution_count": 0,
      "outputs": []
    },
    {
      "cell_type": "code",
      "metadata": {
        "id": "lX6_VHtgQvyT",
        "colab_type": "code",
        "colab": {}
      },
      "source": [
        "# model training and save the best model\n",
        "model.learn(total_timesteps=10**5, reset_num_timesteps=False, callback=eval_callback, tb_log_name=\"test\")"
      ],
      "execution_count": 0,
      "outputs": []
    },
    {
      "cell_type": "code",
      "metadata": {
        "id": "fSYAIJDi5Raq",
        "colab_type": "code",
        "colab": {}
      },
      "source": [
        "# model training\n",
        "model.learn(total_timesteps=10**5, reset_num_timesteps=False, tb_log_name=\"test\")"
      ],
      "execution_count": 0,
      "outputs": []
    },
    {
      "cell_type": "code",
      "metadata": {
        "id": "kAUUpuKrz13S",
        "colab_type": "code",
        "colab": {}
      },
      "source": [
        "%tensorboard --logdir ./PPO2_Futbol_tensorboard_5_layer/"
      ],
      "execution_count": 0,
      "outputs": []
    },
    {
      "cell_type": "code",
      "metadata": {
        "id": "XJ9FBpBIVnoV",
        "colab_type": "code",
        "colab": {}
      },
      "source": [
        "model.set_env(env)"
      ],
      "execution_count": 0,
      "outputs": []
    },
    {
      "cell_type": "code",
      "metadata": {
        "id": "iiDcQ83xQv3H",
        "colab_type": "code",
        "outputId": "52892341-50bc-4bf0-c71e-e75441c26fac",
        "colab": {
          "base_uri": "https://localhost:8080/",
          "height": 326
        }
      },
      "source": [
        "env = gym.make(\"Futbol2v2-v1\")\n",
        "ob = env.reset()\n",
        "done = False\n",
        "total_reward = 0\n",
        "while not done:\n",
        "    action, _states = model.predict(ob)\n",
        "    ob, reward, done, info = env.step(action)\n",
        "\n",
        "    plt.clf()\n",
        "    title_str = \"reward : \" + str(reward) + \"\\n player 0 more red, player n more yellow\"\n",
        "    for i in range(env.number_of_player):\n",
        "          title_str += \"\\n player \" + str(i) + \" action : \" + action_key_string(action[2*i+1]) + \" arrow : \" + arrow_key_string(action[2*i])\n",
        "    \n",
        "    padding = 5\n",
        "    ax = plt.axes(xlim=(0 - padding, env.width + padding), ylim=(0 - padding, env.height + padding))\n",
        "    ax.set_aspect(\"equal\")\n",
        "    o = pymunk.matplotlib_util.DrawOptions(ax)\n",
        "    env.space.debug_draw(o)\n",
        "    plt.title(title_str, loc = 'left')\n",
        "    display.display(plt.gcf())\n",
        "    display.clear_output(wait=True)\n",
        "\n",
        "    total_reward += reward"
      ],
      "execution_count": 0,
      "outputs": [
        {
          "output_type": "display_data",
          "data": {
            "image/png": "[encoded data removed]",
            "text/plain": [
              "<Figure size 432x288 with 1 Axes>"
            ]
          },
          "metadata": {
            "tags": [],
            "needs_background": "light"
          }
        }
      ]
    },
    {
      "cell_type": "code",
      "metadata": {
        "id": "TVJwfkY8iBnm",
        "colab_type": "code",
        "outputId": "904519af-77f6-4267-83f3-70830be8b347",
        "colab": {
          "base_uri": "https://localhost:8080/",
          "height": 34
        }
      },
      "source": [
        "total_reward"
      ],
      "execution_count": 0,
      "outputs": [
        {
          "output_type": "execute_result",
          "data": {
            "text/plain": [
              "-244.57366071642656"
            ]
          },
          "metadata": {
            "tags": []
          },
          "execution_count": 80
        }
      ]
    },
    {
      "cell_type": "code",
      "metadata": {
        "id": "pojsBXIgDrEv",
        "colab_type": "code",
        "colab": {}
      },
      "source": [
        ""
      ],
      "execution_count": 0,
      "outputs": []
    },
    {
      "cell_type": "markdown",
      "metadata": {
        "id": "I3IY3x2T6gKV",
        "colab_type": "text"
      },
      "source": [
        "# Parameter optimization\n",
        "save in mounted google drive (check directory)"
      ]
    },
    {
      "cell_type": "code",
      "metadata": {
        "id": "p_LCwmVp6xlT",
        "colab_type": "code",
        "colab": {}
      },
      "source": [
        "def create_custom_policy(net_arch):\n",
        "    # Custom MLP policy \n",
        "    class CustomPolicy(FeedForwardPolicy):\n",
        "        def __init__(self, *args, **kwargs):\n",
        "            super(CustomPolicy, self).__init__(*args, **kwargs, net_arch=net_arch, feature_extraction=\"mlp\")\n",
        "    return CustomPolicy"
      ],
      "execution_count": 0,
      "outputs": []
    },
    {
      "cell_type": "code",
      "metadata": {
        "id": "2Z1CUMJmB_oJ",
        "colab_type": "code",
        "outputId": "0cf5f375-6b22-469b-a3ab-e6a76a032964",
        "colab": {
          "base_uri": "https://localhost:8080/",
          "height": 34
        }
      },
      "source": [
        "%cd /content/drive/My Drive/cs4701"
      ],
      "execution_count": 0,
      "outputs": [
        {
          "output_type": "stream",
          "text": [
            "/content/drive/My Drive/cs4701\n"
          ],
          "name": "stdout"
        }
      ]
    },
    {
      "cell_type": "code",
      "metadata": {
        "id": "dDKXUqTCCWub",
        "colab_type": "code",
        "outputId": "94b03a7b-4c1a-44f5-f04d-39bedacf548d",
        "colab": {
          "base_uri": "https://localhost:8080/",
          "height": 34
        }
      },
      "source": [
        "!ls"
      ],
      "execution_count": 0,
      "outputs": [
        {
          "output_type": "stream",
          "text": [
            "051619-2v2-test0\n"
          ],
          "name": "stdout"
        }
      ]
    },
    {
      "cell_type": "code",
      "metadata": {
        "id": "zCIACEWIB_F-",
        "colab_type": "code",
        "colab": {}
      },
      "source": [
        "%mkdir 051619-2v2-test1"
      ],
      "execution_count": 0,
      "outputs": []
    },
    {
      "cell_type": "code",
      "metadata": {
        "id": "bGyiFKD4CT4O",
        "colab_type": "code",
        "outputId": "84fd6423-e459-41a9-c050-e4dbd80a6902",
        "colab": {
          "base_uri": "https://localhost:8080/",
          "height": 34
        }
      },
      "source": [
        "%cd 051619-2v2-test1"
      ],
      "execution_count": 0,
      "outputs": [
        {
          "output_type": "stream",
          "text": [
            "/content/drive/My Drive/cs4701/051619-2v2-test1\n"
          ],
          "name": "stdout"
        }
      ]
    },
    {
      "cell_type": "code",
      "metadata": {
        "id": "qOxcZAOUAntu",
        "colab_type": "code",
        "colab": {}
      },
      "source": [
        "%mkdir raw_model trained_model"
      ],
      "execution_count": 0,
      "outputs": []
    },
    {
      "cell_type": "code",
      "metadata": {
        "id": "r3KXXymdC2SF",
        "colab_type": "code",
        "outputId": "4878b82f-c5a2-4bb8-a381-5ddaf8e89121",
        "colab": {
          "base_uri": "https://localhost:8080/",
          "height": 34
        }
      },
      "source": [
        "!pwd"
      ],
      "execution_count": 0,
      "outputs": [
        {
          "output_type": "stream",
          "text": [
            "/content/drive/My Drive/cs4701/051619-2v2-test1\n"
          ],
          "name": "stdout"
        }
      ]
    },
    {
      "cell_type": "code",
      "metadata": {
        "id": "HKU3qiYD-A9v",
        "colab_type": "code",
        "colab": {}
      },
      "source": [
        "# monitor log dir\n",
        "log_dir = \"/tmp/gym/{}\".format(int(time.time()))\n",
        "os.makedirs(log_dir, exist_ok=True)"
      ],
      "execution_count": 0,
      "outputs": []
    },
    {
      "cell_type": "code",
      "metadata": {
        "id": "syskCptS8wMG",
        "colab_type": "code",
        "colab": {}
      },
      "source": [
        "env_num_list = [4, 8, 16]\n",
        "net_arch_list = [\n",
        "                 [512, dict(pi=[256],vf=[256])],\n",
        "                 [512, 512, dict(pi=[256, 256],vf=[256, 256])], \n",
        "                 [512, 512, 256, dict(pi=[256, 256, 128],vf=[256, 256, 128])], \n",
        "                 ]\n",
        "\n",
        "training_time_step = 10 ** 6"
      ],
      "execution_count": 0,
      "outputs": []
    },
    {
      "cell_type": "code",
      "metadata": {
        "id": "ydlxQagYAUoe",
        "colab_type": "code",
        "colab": {}
      },
      "source": [
        "model_dict = {}\n",
        "\n",
        "model_id = 0\n",
        "\n",
        "for env_num in env_num_list:\n",
        "\n",
        "      for net_arch in net_arch_list:\n",
        "\n",
        "            model_name = \"model\"+str(model_id)\n",
        "\n",
        "            # make env\n",
        "            env = gym.make(\"Futbol2v2-v1\")\n",
        "            env = Monitor(env, log_dir, allow_early_resets=True)\n",
        "            env = DummyVecEnv([lambda: env] * env_num)\n",
        "\n",
        "            # make call back to save the best model in training\n",
        "            eval_env = gym.make(\"Futbol2v2-v1\")\n",
        "            eval_callback = EvalCallback(eval_env, best_model_save_path='./logs/' + model_name + '/',\n",
        "                                         log_path='./logs/'+ model_name + '/', \n",
        "                                         eval_freq=10000, n_eval_episodes = 10,\n",
        "                                         deterministic=True, render=False)\n",
        "\n",
        "            # make model\n",
        "            CustomPolicy = create_custom_policy(net_arch)\n",
        "            model = PPO2(CustomPolicy, env, verbose=1, tensorboard_log=\"./PPO2_Futbol2v2_tensorboard/\")\n",
        "\n",
        "            # save the untrained_model\n",
        "            model.save(\"./raw_model/\"+ model_name)\n",
        "\n",
        "            # model training and save the best model\n",
        "            model.learn(total_timesteps=training_time_step, callback=eval_callback, tb_log_name=model_name) \n",
        "\n",
        "            # save the trained_model\n",
        "            model.save(\"./trained_model/\"+ model_name)\n",
        "\n",
        "            # add the model and information to the dictionary\n",
        "            temp_dict = {\"model\":model, \"env_num\":env_num, \"net_arch\":net_arch, \"policy\":CustomPolicy, \n",
        "                         \"time_step\":training_time_step}\n",
        "                         \n",
        "            model_dict[model_name] = temp_dict\n",
        "\n",
        "            model_id += 1"
      ],
      "execution_count": 0,
      "outputs": []
    },
    {
      "cell_type": "code",
      "metadata": {
        "id": "HYhaVi6wBqip",
        "colab_type": "code",
        "colab": {}
      },
      "source": [
        "%tensorboard --logdir ./PPO2_Futbol2v2_tensorboard/"
      ],
      "execution_count": 0,
      "outputs": []
    },
    {
      "cell_type": "markdown",
      "metadata": {
        "id": "BPjXoTUKDrqg",
        "colab_type": "text"
      },
      "source": [
        "# load & test model"
      ]
    },
    {
      "cell_type": "code",
      "metadata": {
        "id": "mivF6DuU-oSE",
        "colab_type": "code",
        "colab": {}
      },
      "source": [
        "import copy"
      ],
      "execution_count": 0,
      "outputs": []
    },
    {
      "cell_type": "code",
      "metadata": {
        "id": "wOYFTu3VLMiw",
        "colab_type": "code",
        "outputId": "9a812562-200f-4825-dd09-d62b9e6decdf",
        "colab": {
          "base_uri": "https://localhost:8080/",
          "height": 34
        }
      },
      "source": [
        "!pwd"
      ],
      "execution_count": 0,
      "outputs": [
        {
          "output_type": "stream",
          "text": [
            "/content/drive/My Drive/cs4701/051619-2v2-test1\n"
          ],
          "name": "stdout"
        }
      ]
    },
    {
      "cell_type": "code",
      "metadata": {
        "id": "x69WfzV0LIWv",
        "colab_type": "code",
        "colab": {}
      },
      "source": [
        "save_model_dict = {}\n",
        "\n",
        "for model_name in model_dict:\n",
        "\n",
        "      temp_dict = {}\n",
        "\n",
        "      temp_dict[model_name] = copy.copy(model_dict[model_name])\n",
        "\n",
        "      print(temp_dict)"
      ],
      "execution_count": 0,
      "outputs": []
    },
    {
      "cell_type": "code",
      "metadata": {
        "id": "FkqhXcQazL_G",
        "colab_type": "code",
        "colab": {}
      },
      "source": [
        "current_model = model_dict[\"model1\"]['model']"
      ],
      "execution_count": 0,
      "outputs": []
    },
    {
      "cell_type": "code",
      "metadata": {
        "id": "4NJswN_jzMHg",
        "colab_type": "code",
        "outputId": "7fbc5b07-78ce-46a2-89d2-f02cc0a9afb8",
        "colab": {
          "base_uri": "https://localhost:8080/",
          "height": 34
        }
      },
      "source": [
        "current_model"
      ],
      "execution_count": 0,
      "outputs": [
        {
          "output_type": "execute_result",
          "data": {
            "text/plain": [
              "<stable_baselines.ppo2.ppo2.PPO2 at 0x7f32782229b0>"
            ]
          },
          "metadata": {
            "tags": []
          },
          "execution_count": 93
        }
      ]
    },
    {
      "cell_type": "code",
      "metadata": {
        "id": "1sXHlVVnzMPW",
        "colab_type": "code",
        "outputId": "b4b84dcf-975b-4d9f-8bf0-ff2bccc2d51c",
        "colab": {
          "base_uri": "https://localhost:8080/",
          "height": 326
        }
      },
      "source": [
        "env = gym.make(\"Futbol2v2-v1\")\n",
        "ob = env.reset()\n",
        "done = False\n",
        "total_reward = 0\n",
        "while not done:\n",
        "    action, _states = current_model.predict(ob)\n",
        "    ob, reward, done, info = env.step(action)\n",
        "\n",
        "    plt.clf()\n",
        "    title_str = \"reward : \" + str(reward) + \"\\n player 0 more red, player n more yellow\"\n",
        "    for i in range(env.number_of_player):\n",
        "          title_str += \"\\n player \" + str(i) + \" action : \" + action_key_string(action[2*i+1]) + \" arrow : \" + arrow_key_string(action[2*i])\n",
        "    \n",
        "    padding = 5\n",
        "    ax = plt.axes(xlim=(0 - padding, env.width + padding), ylim=(0 - padding, env.height + padding))\n",
        "    ax.set_aspect(\"equal\")\n",
        "    o = pymunk.matplotlib_util.DrawOptions(ax)\n",
        "    env.space.debug_draw(o)\n",
        "    plt.title(title_str, loc = 'left')\n",
        "    display.display(plt.gcf())\n",
        "    display.clear_output(wait=True)\n",
        "\n",
        "    total_reward += reward"
      ],
      "execution_count": 0,
      "outputs": [
        {
          "output_type": "display_data",
          "data": {
            "image/png": "[encoded data removed]",
            "text/plain": [
              "<Figure size 432x288 with 1 Axes>"
            ]
          },
          "metadata": {
            "tags": [],
            "needs_background": "light"
          }
        }
      ]
    },
    {
      "cell_type": "code",
      "metadata": {
        "id": "NmvKhc7QzkY5",
        "colab_type": "code",
        "outputId": "167f6d3f-2f64-4cde-8b14-89f94e0109ad",
        "colab": {
          "base_uri": "https://localhost:8080/",
          "height": 34
        }
      },
      "source": [
        "total_reward"
      ],
      "execution_count": 0,
      "outputs": [
        {
          "output_type": "execute_result",
          "data": {
            "text/plain": [
              "3562.5187371439283"
            ]
          },
          "metadata": {
            "tags": []
          },
          "execution_count": 95
        }
      ]
    },
    {
      "cell_type": "markdown",
      "metadata": {
        "id": "eYOKoKlVDt3T",
        "colab_type": "text"
      },
      "source": [
        "# Load Best"
      ]
    },
    {
      "cell_type": "code",
      "metadata": {
        "colab_type": "code",
        "outputId": "252e5f22-d050-41c0-a8ba-a38d0df52b65",
        "id": "DsdcRfbAEcoX",
        "colab": {
          "base_uri": "https://localhost:8080/",
          "height": 34
        }
      },
      "source": [
        "!pwd"
      ],
      "execution_count": 0,
      "outputs": [
        {
          "output_type": "stream",
          "text": [
            "/content/drive/My Drive/cs4701/051619-2v2-test1\n"
          ],
          "name": "stdout"
        }
      ]
    },
    {
      "cell_type": "code",
      "metadata": {
        "colab_type": "code",
        "outputId": "32585b9a-d263-43c2-8d4a-786e90a95d94",
        "id": "htXXhriAEcof",
        "colab": {
          "base_uri": "https://localhost:8080/",
          "height": 34
        }
      },
      "source": [
        "!ls"
      ],
      "execution_count": 0,
      "outputs": [
        {
          "output_type": "stream",
          "text": [
            "logs  PPO2_Futbol2v2_tensorboard  raw_model  trained_model\n"
          ],
          "name": "stdout"
        }
      ]
    },
    {
      "cell_type": "code",
      "metadata": {
        "colab_type": "code",
        "id": "_j31ssUxEcoh",
        "colab": {}
      },
      "source": [
        "best_model = PPO2.load(\"logs/model1/best_model\")"
      ],
      "execution_count": 0,
      "outputs": []
    },
    {
      "cell_type": "code",
      "metadata": {
        "colab_type": "code",
        "id": "8ZibgvaAEcok",
        "outputId": "cc5dafff-046e-408d-ab5d-e66f17669827",
        "colab": {
          "base_uri": "https://localhost:8080/",
          "height": 326
        }
      },
      "source": [
        "env = gym.make(\"Futbol2v2-v1\")\n",
        "ob = env.reset()\n",
        "done = False\n",
        "total_reward = 0\n",
        "while not done:\n",
        "    action, _states = best_model.predict(ob)\n",
        "    ob, reward, done, info = env.step(action)\n",
        "\n",
        "    plt.clf()\n",
        "    title_str = \" reward : \" + str(reward) + \"\\n player 0-n = red - yellow\"\n",
        "    for i in range(env.number_of_player):\n",
        "          title_str += \"\\n player \" + str(i) + \" action : \" + action_key_string(action[2*i+1]) + \" arrow : \" + arrow_key_string(action[2*i])\n",
        "    padding = 5\n",
        "    ax = plt.axes(xlim=(0 - padding, env.width + padding), ylim=(0 - padding, env.height + padding))\n",
        "    ax.set_aspect(\"equal\")\n",
        "    o = pymunk.matplotlib_util.DrawOptions(ax)\n",
        "    env.space.debug_draw(o)\n",
        "    plt.title(title_str, loc = 'left')\n",
        "    display.display(plt.gcf())\n",
        "    display.clear_output(wait=True)\n",
        "\n",
        "    total_reward += reward"
      ],
      "execution_count": 0,
      "outputs": [
        {
          "output_type": "display_data",
          "data": {
            "image/png": "[encoded data removed]",
            "text/plain": [
              "<Figure size 432x288 with 1 Axes>"
            ]
          },
          "metadata": {
            "tags": [],
            "needs_background": "light"
          }
        }
      ]
    },
    {
      "cell_type": "code",
      "metadata": {
        "id": "kNnBB0SXWw7E",
        "colab_type": "code",
        "outputId": "2eadae32-087a-46a7-daba-23beb4cf69f8",
        "colab": {
          "base_uri": "https://localhost:8080/",
          "height": 34
        }
      },
      "source": [
        "total_reward"
      ],
      "execution_count": 0,
      "outputs": [
        {
          "output_type": "execute_result",
          "data": {
            "text/plain": [
              "5591.258091320053"
            ]
          },
          "metadata": {
            "tags": []
          },
          "execution_count": 116
        }
      ]
    },
    {
      "cell_type": "code",
      "metadata": {
        "id": "vjv7up2f1c9P",
        "colab_type": "code",
        "colab": {}
      },
      "source": [
        "env = gym.make(\"Futbol2v2-v1\")\n",
        "evaluate_policy(best_model, env, n_eval_episodes=10, return_episode_rewards=True)"
      ],
      "execution_count": 0,
      "outputs": []
    },
    {
      "cell_type": "code",
      "metadata": {
        "id": "PhxtRoQU2B97",
        "colab_type": "code",
        "outputId": "baa79877-acd4-4daf-9108-e2b9ada52147",
        "colab": {
          "base_uri": "https://localhost:8080/",
          "height": 34
        }
      },
      "source": [
        "env = gym.make(\"Futbol2v2-v1\")\n",
        "\n",
        "mean_reward, std_reward = evaluate_policy(best_model, env, n_eval_episodes=10)\n",
        "\n",
        "print(f\"mean_reward:{mean_reward:.2f} +/- {std_reward:.2f}\")"
      ],
      "execution_count": 0,
      "outputs": [
        {
          "output_type": "stream",
          "text": [
            "mean_reward:1562.63 +/- 1439.21\n"
          ],
          "name": "stdout"
        }
      ]
    }
  ]
}