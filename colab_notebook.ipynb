{
  "nbformat": 4,
  "nbformat_minor": 0,
  "metadata": {
    "colab": {
      "name": "colab_notebook.ipynb",
      "provenance": [],
      "collapsed_sections": [],
      "toc_visible": true,
      "include_colab_link": true
    },
    "kernelspec": {
      "name": "python3",
      "display_name": "Python 3"
    },
    "accelerator": "GPU"
  },
  "cells": [
    {
      "cell_type": "markdown",
      "metadata": {
        "id": "view-in-github",
        "colab_type": "text"
      },
      "source": [
        "<a href=\"https://colab.research.google.com/github/yc2454/gym-futbol/blob/master/colab_notebook.ipynb\" target=\"_parent\"><img src=\"https://colab.research.google.com/assets/colab-badge.svg\" alt=\"Open In Colab\"/></a>"
      ]
    },
    {
      "cell_type": "markdown",
      "metadata": {
        "id": "yaU3LVqXB4zm",
        "colab_type": "text"
      },
      "source": [
        "# Load \n",
        "Load our project and install some packages"
      ]
    },
    {
      "cell_type": "code",
      "metadata": {
        "id": "WZmf2eOUTDd6",
        "colab_type": "code",
        "outputId": "d8cb3ba2-6de9-43ed-c134-2ab53f44ab6e",
        "colab": {
          "base_uri": "https://localhost:8080/",
          "height": 136
        }
      },
      "source": [
        "! git clone https://github.com/yc2454/gym-futbol.git"
      ],
      "execution_count": 1,
      "outputs": [
        {
          "output_type": "stream",
          "text": [
            "Cloning into 'gym-futbol'...\n",
            "remote: Enumerating objects: 91, done.\u001b[K\n",
            "remote: Counting objects: 100% (91/91), done.\u001b[K\n",
            "remote: Compressing objects: 100% (69/69), done.\u001b[K\n",
            "remote: Total 1555 (delta 40), reused 60 (delta 21), pack-reused 1464\u001b[K\n",
            "Receiving objects: 100% (1555/1555), 95.30 MiB | 25.17 MiB/s, done.\n",
            "Resolving deltas: 100% (826/826), done.\n"
          ],
          "name": "stdout"
        }
      ]
    },
    {
      "cell_type": "code",
      "metadata": {
        "id": "-TDOX9hlUetB",
        "colab_type": "code",
        "outputId": "30e0c070-b005-4aca-b0b0-b75072b9a6e0",
        "colab": {
          "base_uri": "https://localhost:8080/",
          "height": 34
        }
      },
      "source": [
        "%cd /content/gym-futbol/"
      ],
      "execution_count": 2,
      "outputs": [
        {
          "output_type": "stream",
          "text": [
            "/content/gym-futbol\n"
          ],
          "name": "stdout"
        }
      ]
    },
    {
      "cell_type": "code",
      "metadata": {
        "id": "mrxUMw4cUmcl",
        "colab_type": "code",
        "outputId": "12f65313-cf47-43c4-b45e-1ff872bef94c",
        "colab": {
          "base_uri": "https://localhost:8080/",
          "height": 289
        }
      },
      "source": [
        "! pip install -e ."
      ],
      "execution_count": 3,
      "outputs": [
        {
          "output_type": "stream",
          "text": [
            "Obtaining file:///content/gym-futbol\n",
            "Requirement already satisfied: gym in /usr/local/lib/python3.6/dist-packages (from gym-futbol==1.0.1) (0.17.1)\n",
            "Collecting pymunk\n",
            "\u001b[?25l  Downloading https://files.pythonhosted.org/packages/80/0f/25a65edbda2d7d72c28ab150292c85293896183bf5e16cffc8e3608b8934/pymunk-5.6.0-py2.py3-none-manylinux1_x86_64.whl (535kB)\n",
            "\u001b[K     |████████████████████████████████| 542kB 8.6MB/s \n",
            "\u001b[?25hRequirement already satisfied: scipy in /usr/local/lib/python3.6/dist-packages (from gym->gym-futbol==1.0.1) (1.4.1)\n",
            "Requirement already satisfied: numpy>=1.10.4 in /usr/local/lib/python3.6/dist-packages (from gym->gym-futbol==1.0.1) (1.18.4)\n",
            "Requirement already satisfied: pyglet<=1.5.0,>=1.4.0 in /usr/local/lib/python3.6/dist-packages (from gym->gym-futbol==1.0.1) (1.5.0)\n",
            "Requirement already satisfied: six in /usr/local/lib/python3.6/dist-packages (from gym->gym-futbol==1.0.1) (1.12.0)\n",
            "Requirement already satisfied: cloudpickle<1.4.0,>=1.2.0 in /usr/local/lib/python3.6/dist-packages (from gym->gym-futbol==1.0.1) (1.3.0)\n",
            "Requirement already satisfied: cffi!=1.13.1 in /usr/local/lib/python3.6/dist-packages (from pymunk->gym-futbol==1.0.1) (1.14.0)\n",
            "Requirement already satisfied: future in /usr/local/lib/python3.6/dist-packages (from pyglet<=1.5.0,>=1.4.0->gym->gym-futbol==1.0.1) (0.16.0)\n",
            "Requirement already satisfied: pycparser in /usr/local/lib/python3.6/dist-packages (from cffi!=1.13.1->pymunk->gym-futbol==1.0.1) (2.20)\n",
            "Installing collected packages: pymunk, gym-futbol\n",
            "  Running setup.py develop for gym-futbol\n",
            "Successfully installed gym-futbol pymunk-5.6.0\n"
          ],
          "name": "stdout"
        }
      ]
    },
    {
      "cell_type": "code",
      "metadata": {
        "id": "fmCFeml6U1EZ",
        "colab_type": "code",
        "outputId": "4fefba35-2c5e-408f-affd-14ae157480db",
        "colab": {
          "base_uri": "https://localhost:8080/",
          "height": 1000
        }
      },
      "source": [
        "%tensorflow_version 1.14\n",
        "! pip install keras tensorflow gym numpy stable-baselines[mpi]==2.10.0"
      ],
      "execution_count": 4,
      "outputs": [
        {
          "output_type": "stream",
          "text": [
            "`%tensorflow_version` only switches the major version: 1.x or 2.x.\n",
            "You set: `1.14`. This will be interpreted as: `1.x`.\n",
            "\n",
            "\n",
            "TensorFlow 1.x selected.\n",
            "Requirement already satisfied: keras in /usr/local/lib/python3.6/dist-packages (2.3.1)\n",
            "Requirement already satisfied: tensorflow in /tensorflow-1.15.2/python3.6 (1.15.2)\n",
            "Requirement already satisfied: gym in /usr/local/lib/python3.6/dist-packages (0.17.1)\n",
            "Requirement already satisfied: numpy in /usr/local/lib/python3.6/dist-packages (1.18.4)\n",
            "Collecting stable-baselines[mpi]==2.10.0\n",
            "\u001b[?25l  Downloading https://files.pythonhosted.org/packages/e5/fe/db8159d4d79109c6c8942abe77c7ba6b6e008c32ae55870a35e73fa10db3/stable_baselines-2.10.0-py3-none-any.whl (248kB)\n",
            "\u001b[K     |████████████████████████████████| 256kB 7.5MB/s \n",
            "\u001b[?25hRequirement already satisfied: keras-applications>=1.0.6 in /usr/local/lib/python3.6/dist-packages (from keras) (1.0.8)\n",
            "Requirement already satisfied: scipy>=0.14 in /usr/local/lib/python3.6/dist-packages (from keras) (1.4.1)\n",
            "Requirement already satisfied: h5py in /usr/local/lib/python3.6/dist-packages (from keras) (2.10.0)\n",
            "Requirement already satisfied: six>=1.9.0 in /usr/local/lib/python3.6/dist-packages (from keras) (1.12.0)\n",
            "Requirement already satisfied: pyyaml in /usr/local/lib/python3.6/dist-packages (from keras) (3.13)\n",
            "Requirement already satisfied: keras-preprocessing>=1.0.5 in /usr/local/lib/python3.6/dist-packages (from keras) (1.1.0)\n",
            "Requirement already satisfied: wrapt>=1.11.1 in /usr/local/lib/python3.6/dist-packages (from tensorflow) (1.12.1)\n",
            "Requirement already satisfied: protobuf>=3.6.1 in /usr/local/lib/python3.6/dist-packages (from tensorflow) (3.10.0)\n",
            "Collecting gast==0.2.2\n",
            "  Downloading https://files.pythonhosted.org/packages/4e/35/11749bf99b2d4e3cceb4d55ca22590b0d7c2c62b9de38ac4a4a7f4687421/gast-0.2.2.tar.gz\n",
            "Requirement already satisfied: absl-py>=0.7.0 in /usr/local/lib/python3.6/dist-packages (from tensorflow) (0.9.0)\n",
            "Requirement already satisfied: tensorboard<1.16.0,>=1.15.0 in /tensorflow-1.15.2/python3.6 (from tensorflow) (1.15.0)\n",
            "Requirement already satisfied: opt-einsum>=2.3.2 in /usr/local/lib/python3.6/dist-packages (from tensorflow) (3.2.1)\n",
            "Requirement already satisfied: tensorflow-estimator==1.15.1 in /tensorflow-1.15.2/python3.6 (from tensorflow) (1.15.1)\n",
            "Requirement already satisfied: grpcio>=1.8.6 in /usr/local/lib/python3.6/dist-packages (from tensorflow) (1.28.1)\n",
            "Requirement already satisfied: termcolor>=1.1.0 in /usr/local/lib/python3.6/dist-packages (from tensorflow) (1.1.0)\n",
            "Requirement already satisfied: wheel>=0.26; python_version >= \"3\" in /usr/local/lib/python3.6/dist-packages (from tensorflow) (0.34.2)\n",
            "Requirement already satisfied: google-pasta>=0.1.6 in /usr/local/lib/python3.6/dist-packages (from tensorflow) (0.2.0)\n",
            "Requirement already satisfied: astor>=0.6.0 in /usr/local/lib/python3.6/dist-packages (from tensorflow) (0.8.1)\n",
            "Requirement already satisfied: cloudpickle<1.4.0,>=1.2.0 in /usr/local/lib/python3.6/dist-packages (from gym) (1.3.0)\n",
            "Requirement already satisfied: pyglet<=1.5.0,>=1.4.0 in /usr/local/lib/python3.6/dist-packages (from gym) (1.5.0)\n",
            "Requirement already satisfied: pandas in /usr/local/lib/python3.6/dist-packages (from stable-baselines[mpi]==2.10.0) (1.0.3)\n",
            "Requirement already satisfied: matplotlib in /usr/local/lib/python3.6/dist-packages (from stable-baselines[mpi]==2.10.0) (3.2.1)\n",
            "Requirement already satisfied: opencv-python in /usr/local/lib/python3.6/dist-packages (from stable-baselines[mpi]==2.10.0) (4.1.2.30)\n",
            "Requirement already satisfied: joblib in /usr/local/lib/python3.6/dist-packages (from stable-baselines[mpi]==2.10.0) (0.14.1)\n",
            "Requirement already satisfied: mpi4py; extra == \"mpi\" in /tensorflow-1.15.2/python3.6 (from stable-baselines[mpi]==2.10.0) (3.0.3)\n",
            "Requirement already satisfied: setuptools in /usr/local/lib/python3.6/dist-packages (from protobuf>=3.6.1->tensorflow) (46.3.0)\n",
            "Requirement already satisfied: markdown>=2.6.8 in /usr/local/lib/python3.6/dist-packages (from tensorboard<1.16.0,>=1.15.0->tensorflow) (3.2.1)\n",
            "Requirement already satisfied: werkzeug>=0.11.15 in /usr/local/lib/python3.6/dist-packages (from tensorboard<1.16.0,>=1.15.0->tensorflow) (1.0.1)\n",
            "Requirement already satisfied: future in /usr/local/lib/python3.6/dist-packages (from pyglet<=1.5.0,>=1.4.0->gym) (0.16.0)\n",
            "Requirement already satisfied: python-dateutil>=2.6.1 in /usr/local/lib/python3.6/dist-packages (from pandas->stable-baselines[mpi]==2.10.0) (2.8.1)\n",
            "Requirement already satisfied: pytz>=2017.2 in /usr/local/lib/python3.6/dist-packages (from pandas->stable-baselines[mpi]==2.10.0) (2018.9)\n",
            "Requirement already satisfied: kiwisolver>=1.0.1 in /usr/local/lib/python3.6/dist-packages (from matplotlib->stable-baselines[mpi]==2.10.0) (1.2.0)\n",
            "Requirement already satisfied: pyparsing!=2.0.4,!=2.1.2,!=2.1.6,>=2.0.1 in /usr/local/lib/python3.6/dist-packages (from matplotlib->stable-baselines[mpi]==2.10.0) (2.4.7)\n",
            "Requirement already satisfied: cycler>=0.10 in /usr/local/lib/python3.6/dist-packages (from matplotlib->stable-baselines[mpi]==2.10.0) (0.10.0)\n",
            "Building wheels for collected packages: gast\n",
            "  Building wheel for gast (setup.py) ... \u001b[?25l\u001b[?25hdone\n",
            "  Created wheel for gast: filename=gast-0.2.2-cp36-none-any.whl size=7540 sha256=225b232fd61ec445049f145031d229f836e3d9d753a94096f6e83d45b5e1bc59\n",
            "  Stored in directory: /root/.cache/pip/wheels/5c/2e/7e/a1d4d4fcebe6c381f378ce7743a3ced3699feb89bcfbdadadd\n",
            "Successfully built gast\n",
            "Installing collected packages: stable-baselines, gast\n",
            "  Found existing installation: stable-baselines 2.2.1\n",
            "    Uninstalling stable-baselines-2.2.1:\n",
            "      Successfully uninstalled stable-baselines-2.2.1\n",
            "  Found existing installation: gast 0.3.3\n",
            "    Uninstalling gast-0.3.3:\n",
            "      Successfully uninstalled gast-0.3.3\n",
            "Successfully installed gast-0.2.2 stable-baselines-2.10.0\n"
          ],
          "name": "stdout"
        }
      ]
    },
    {
      "cell_type": "markdown",
      "metadata": {
        "id": "oa1O7-LD1YKq",
        "colab_type": "text"
      },
      "source": [
        "# import packages"
      ]
    },
    {
      "cell_type": "code",
      "metadata": {
        "id": "pCsZCgmjibtD",
        "colab_type": "code",
        "outputId": "ff81fc8a-5bfc-4025-e552-69ce90089705",
        "colab": {
          "base_uri": "https://localhost:8080/",
          "height": 34
        }
      },
      "source": [
        "import gym\n",
        "import gym_futbol, random\n",
        "import numpy as np\n",
        "\n",
        "from IPython.display import clear_output\n",
        "import matplotlib.pyplot as plt\n",
        "%matplotlib inline\n",
        "from IPython import display\n",
        "\n",
        "import pymunk\n",
        "from pymunk.vec2d import Vec2d\n",
        "import pymunk.matplotlib_util"
      ],
      "execution_count": 5,
      "outputs": [
        {
          "output_type": "stream",
          "text": [
            "Loading chipmunk for Linux (64bit) [/usr/local/lib/python3.6/dist-packages/pymunk/libchipmunk.so]\n"
          ],
          "name": "stdout"
        }
      ]
    },
    {
      "cell_type": "code",
      "metadata": {
        "id": "b1ujXmXmIRUH",
        "colab_type": "code",
        "colab": {}
      },
      "source": [
        "def colab_render(env):\n",
        "      ob = env.reset()\n",
        "      done = False\n",
        "      total_reward = 0\n",
        "      while not done:\n",
        "          action = np.reshape(env.random_action(), -1)\n",
        "          ob, reward, done, info = env.step(action)\n",
        "\n",
        "          plt.clf()\n",
        "          title_str = (\"reward : \" + str(reward))\n",
        "          padding = 5\n",
        "          ax = plt.axes(xlim=(0 - padding, env.width + padding), ylim=(0 - padding, env.height + padding))\n",
        "          ax.set_aspect(\"equal\")\n",
        "          o = pymunk.matplotlib_util.DrawOptions(ax)\n",
        "          env.space.debug_draw(o)\n",
        "          plt.title(title_str, loc = 'left')\n",
        "          display.display(plt.gcf())\n",
        "          display.clear_output(wait=True)\n",
        "\n",
        "          total_reward += reward\n",
        "      return total_reward"
      ],
      "execution_count": 0,
      "outputs": []
    },
    {
      "cell_type": "markdown",
      "metadata": {
        "id": "_yhAN3yD2gZQ",
        "colab_type": "text"
      },
      "source": [
        "# Test Envs\n",
        "Both side take random actions "
      ]
    },
    {
      "cell_type": "markdown",
      "metadata": {
        "id": "YOyNIYgyIvbf",
        "colab_type": "text"
      },
      "source": [
        "## 2 player vs 2 player"
      ]
    },
    {
      "cell_type": "code",
      "metadata": {
        "id": "MDc-2-eHB8HJ",
        "colab_type": "code",
        "colab": {
          "base_uri": "https://localhost:8080/",
          "height": 265
        },
        "outputId": "0fec5c52-3c55-480c-f8a3-b3de1d5891aa"
      },
      "source": [
        "env = gym.make(\"Futbol2v2-v1\")\n",
        "env.render()"
      ],
      "execution_count": 7,
      "outputs": [
        {
          "output_type": "display_data",
          "data": {
            "image/png": "[encoded data removed]",
            "text/plain": [
              "<Figure size 432x288 with 1 Axes>"
            ]
          },
          "metadata": {
            "tags": [],
            "needs_background": "light"
          }
        }
      ]
    },
    {
      "cell_type": "code",
      "metadata": {
        "id": "QSx7TxK73_Wd",
        "colab_type": "code",
        "outputId": "e2a89fbf-be87-405e-8254-18ed8f472e9f",
        "colab": {
          "base_uri": "https://localhost:8080/",
          "height": 281
        }
      },
      "source": [
        "# Both side take random actions \n",
        "total_reward = colab_render(env)"
      ],
      "execution_count": 8,
      "outputs": [
        {
          "output_type": "display_data",
          "data": {
            "image/png": "[encoded data removed]",
            "text/plain": [
              "<Figure size 432x288 with 1 Axes>"
            ]
          },
          "metadata": {
            "tags": [],
            "needs_background": "light"
          }
        }
      ]
    },
    {
      "cell_type": "markdown",
      "metadata": {
        "colab_type": "text",
        "id": "K22-93tXI4j2"
      },
      "source": [
        "## 5 player vs 5 player"
      ]
    },
    {
      "cell_type": "code",
      "metadata": {
        "colab_type": "code",
        "outputId": "2d7b304a-cac0-419e-ea59-ebaf5d852c09",
        "id": "bx4RJ5xgI4j4",
        "colab": {
          "base_uri": "https://localhost:8080/",
          "height": 265
        }
      },
      "source": [
        "env = gym.make(\"Futbol5v5-v1\")\n",
        "env.render()"
      ],
      "execution_count": 9,
      "outputs": [
        {
          "output_type": "display_data",
          "data": {
            "image/png": "[encoded data removed]",
            "text/plain": [
              "<Figure size 432x288 with 1 Axes>"
            ]
          },
          "metadata": {
            "tags": [],
            "needs_background": "light"
          }
        }
      ]
    },
    {
      "cell_type": "code",
      "metadata": {
        "colab_type": "code",
        "outputId": "078c0aa9-434c-4aed-eaf2-734d57b44376",
        "id": "glONCTOzI4j7",
        "colab": {
          "base_uri": "https://localhost:8080/",
          "height": 281
        }
      },
      "source": [
        "# Both side take random actions \n",
        "total_reward = colab_render(env)"
      ],
      "execution_count": 10,
      "outputs": [
        {
          "output_type": "display_data",
          "data": {
            "image/png": "[encoded data removed]",
            "text/plain": [
              "<Figure size 432x288 with 1 Axes>"
            ]
          },
          "metadata": {
            "tags": [],
            "needs_background": "light"
          }
        }
      ]
    },
    {
      "cell_type": "markdown",
      "metadata": {
        "colab_type": "text",
        "id": "BwObqg0lJCB5"
      },
      "source": [
        "## 10 player vs 10 player"
      ]
    },
    {
      "cell_type": "code",
      "metadata": {
        "colab_type": "code",
        "outputId": "92da973b-f9d0-464d-a982-58865d449c4e",
        "id": "CjM97QlDJCB6",
        "colab": {
          "base_uri": "https://localhost:8080/",
          "height": 265
        }
      },
      "source": [
        "env = gym.make(\"Futbol-v1\")\n",
        "env.render()"
      ],
      "execution_count": 11,
      "outputs": [
        {
          "output_type": "display_data",
          "data": {
            "image/png": "[encoded data removed]",
            "text/plain": [
              "<Figure size 432x288 with 1 Axes>"
            ]
          },
          "metadata": {
            "tags": [],
            "needs_background": "light"
          }
        }
      ]
    },
    {
      "cell_type": "code",
      "metadata": {
        "colab_type": "code",
        "outputId": "fe65e94e-f72d-40d9-cdcd-fa88248207c5",
        "id": "mY3q-J8wJCB-",
        "colab": {
          "base_uri": "https://localhost:8080/",
          "height": 281
        }
      },
      "source": [
        "# Both side take random actions \n",
        "total_reward = colab_render(env)"
      ],
      "execution_count": 12,
      "outputs": [
        {
          "output_type": "display_data",
          "data": {
            "image/png": "[encoded data removed]",
            "text/plain": [
              "<Figure size 432x288 with 1 Axes>"
            ]
          },
          "metadata": {
            "tags": [],
            "needs_background": "light"
          }
        }
      ]
    },
    {
      "cell_type": "markdown",
      "metadata": {
        "id": "JO-FcVd11eeC",
        "colab_type": "text"
      },
      "source": [
        "# Load trained model"
      ]
    },
    {
      "cell_type": "markdown",
      "metadata": {
        "id": "AqNUET7jDCQj",
        "colab_type": "text"
      },
      "source": [
        "## import stable baselines"
      ]
    },
    {
      "cell_type": "code",
      "metadata": {
        "id": "Tx42wD6r2lQ8",
        "colab_type": "code",
        "outputId": "73099fd9-f931-4340-acfb-c5af406e5f44",
        "colab": {
          "base_uri": "https://localhost:8080/",
          "height": 153
        }
      },
      "source": [
        "import os, time, gym\n",
        "from stable_baselines.common.policies import MlpPolicy, FeedForwardPolicy, register_policy\n",
        "from stable_baselines.common.vec_env import DummyVecEnv, SubprocVecEnv\n",
        "from stable_baselines.common import make_vec_env\n",
        "from stable_baselines import PPO2\n",
        "from stable_baselines.bench import Monitor\n",
        "from stable_baselines.common.env_checker import check_env\n",
        "from stable_baselines.common.callbacks import EvalCallback\n",
        "from stable_baselines.common.evaluation import evaluate_policy\n",
        "%load_ext tensorboard"
      ],
      "execution_count": 13,
      "outputs": [
        {
          "output_type": "stream",
          "text": [
            "WARNING:tensorflow:\n",
            "The TensorFlow contrib module will not be included in TensorFlow 2.0.\n",
            "For more information, please see:\n",
            "  * https://github.com/tensorflow/community/blob/master/rfcs/20180907-contrib-sunset.md\n",
            "  * https://github.com/tensorflow/addons\n",
            "  * https://github.com/tensorflow/io (for I/O related ops)\n",
            "If you depend on functionality not listed there, please file an issue.\n",
            "\n"
          ],
          "name": "stdout"
        }
      ]
    },
    {
      "cell_type": "code",
      "metadata": {
        "id": "dq11GB_lLaC9",
        "colab_type": "code",
        "colab": {}
      },
      "source": [
        "def test_model(env, model, vis=False):\n",
        "      ob = env.reset()\n",
        "      done = False\n",
        "      total_reward = 0\n",
        "      while not done:\n",
        "          action, _states = model.predict(ob)\n",
        "          ob, reward, done, info = env.step(action)\n",
        "          if vis:\n",
        "                plt.clf()\n",
        "                title_str = \"reward : \" + str(reward)\n",
        "                padding = 5\n",
        "                ax = plt.axes(xlim=(0 - padding, env.width + padding), ylim=(0 - padding, env.height + padding))\n",
        "                ax.set_aspect(\"equal\")\n",
        "                o = pymunk.matplotlib_util.DrawOptions(ax)\n",
        "                env.space.debug_draw(o)\n",
        "                plt.title(title_str, loc = 'left')\n",
        "                display.display(plt.gcf())\n",
        "                display.clear_output(wait=True)\n",
        "          total_reward += reward\n",
        "      return total_reward"
      ],
      "execution_count": 0,
      "outputs": []
    },
    {
      "cell_type": "markdown",
      "metadata": {
        "id": "c2Mz3ywqKV16",
        "colab_type": "text"
      },
      "source": [
        "## load \n",
        "As we mostly done the training process in 2v2 setup. we provide 9 model we trained in the hyperparameter training process. <br>\n",
        "Test detail can be found in https://drive.google.com/open?id=1Rc7JftOcVXrOk65zqB86BLFv2aGutbf2."
      ]
    },
    {
      "cell_type": "code",
      "metadata": {
        "id": "DwMYg7spKVCE",
        "colab_type": "code",
        "colab": {
          "base_uri": "https://localhost:8080/",
          "height": 34
        },
        "outputId": "e8a9db60-0d99-4087-8e78-82d46b63b5d1"
      },
      "source": [
        "%cd /content/gym-futbol"
      ],
      "execution_count": 15,
      "outputs": [
        {
          "output_type": "stream",
          "text": [
            "/content/gym-futbol\n"
          ],
          "name": "stdout"
        }
      ]
    },
    {
      "cell_type": "code",
      "metadata": {
        "id": "HCLP2JRDK2bU",
        "colab_type": "code",
        "colab": {}
      },
      "source": [
        "model = PPO2.load(\"trained_model_2v2/model1\") # model 0 - 9"
      ],
      "execution_count": 0,
      "outputs": []
    },
    {
      "cell_type": "code",
      "metadata": {
        "id": "VvZux3PSLJws",
        "colab_type": "code",
        "colab": {
          "base_uri": "https://localhost:8080/",
          "height": 298
        },
        "outputId": "4fe36922-39f0-4840-c682-a2c71a4f411f"
      },
      "source": [
        "env = gym.make(\"Futbol2v2-v1\")\n",
        "test_model(env, model, vis=True)"
      ],
      "execution_count": 20,
      "outputs": [
        {
          "output_type": "execute_result",
          "data": {
            "text/plain": [
              "4465.857612852453"
            ]
          },
          "metadata": {
            "tags": []
          },
          "execution_count": 20
        },
        {
          "output_type": "display_data",
          "data": {
            "image/png": "[encoded data removed]",
            "text/plain": [
              "<Figure size 432x288 with 1 Axes>"
            ]
          },
          "metadata": {
            "tags": [],
            "needs_background": "light"
          }
        }
      ]
    },
    {
      "cell_type": "code",
      "metadata": {
        "id": "Pg392hnEMIN8",
        "colab_type": "code",
        "colab": {
          "base_uri": "https://localhost:8080/",
          "height": 34
        },
        "outputId": "a2b36e94-cbd6-4b60-f58c-0bc471d1c28a"
      },
      "source": [
        "env = gym.make(\"Futbol2v2-v1\")\n",
        "mean_reward, std_reward = evaluate_policy(model, env, n_eval_episodes=10)\n",
        "print(f\"mean_reward:{mean_reward:.2f} +/- {std_reward:.2f}\")"
      ],
      "execution_count": 21,
      "outputs": [
        {
          "output_type": "stream",
          "text": [
            "mean_reward:2027.02 +/- 1519.25\n"
          ],
          "name": "stdout"
        }
      ]
    },
    {
      "cell_type": "markdown",
      "metadata": {
        "id": "mxmn_TbqDREk",
        "colab_type": "text"
      },
      "source": [
        "# Training"
      ]
    },
    {
      "cell_type": "code",
      "metadata": {
        "id": "3XNiQduuNwEx",
        "colab_type": "code",
        "colab": {}
      },
      "source": [
        "%cd /content/"
      ],
      "execution_count": 0,
      "outputs": []
    },
    {
      "cell_type": "code",
      "metadata": {
        "id": "7v1bJQKVAkFE",
        "colab_type": "code",
        "colab": {}
      },
      "source": [
        "# Custom MLP policy \n",
        "class CustomPolicy(FeedForwardPolicy):\n",
        "    def __init__(self, *args, **kwargs):\n",
        "        super(CustomPolicy, self).__init__(*args, **kwargs,\n",
        "                                           net_arch=[256, 256, dict(pi=[128, 128],\n",
        "                                                                    vf=[128, 128])],\n",
        "                                           feature_extraction=\"mlp\")"
      ],
      "execution_count": 0,
      "outputs": []
    },
    {
      "cell_type": "code",
      "metadata": {
        "id": "c5j8EIdBDeQM",
        "colab_type": "code",
        "colab": {}
      },
      "source": [
        "# Separate evaluation env\n",
        "eval_env = gym.make(\"Futbol2v2-v1\")\n",
        "# Use deterministic actions for evaluation\n",
        "eval_callback = EvalCallback(eval_env, best_model_save_path='./logs/',\n",
        "                             log_path='./logs/', eval_freq=1000, n_eval_episodes = 5,\n",
        "                             deterministic=True, render=False)"
      ],
      "execution_count": 0,
      "outputs": []
    },
    {
      "cell_type": "code",
      "metadata": {
        "id": "02WNL00F7SYw",
        "colab_type": "code",
        "colab": {}
      },
      "source": [
        "log_dir = \"/tmp/gym/{}\".format(int(time.time()))\n",
        "os.makedirs(log_dir, exist_ok=True)\n",
        "\n",
        "num_envs = 8\n",
        "env = gym.make(\"Futbol2v2-v1\")\n",
        "env = Monitor(env, log_dir, allow_early_resets=True)\n",
        "env = DummyVecEnv([lambda: env] * num_envs)\n",
        "\n",
        "model = PPO2(CustomPolicy, env, verbose=1, tensorboard_log=\"/content/PPO2_Futbol2v2_tensorboard/\")"
      ],
      "execution_count": 0,
      "outputs": []
    },
    {
      "cell_type": "code",
      "metadata": {
        "id": "9l2D_onXOI8M",
        "colab_type": "code",
        "colab": {}
      },
      "source": [
        "env = gym.make(\"Futbol2v2-v1\")\n",
        "mean_reward, std_reward = evaluate_policy(model, env, n_eval_episodes=10)\n",
        "print(f\"mean_reward:{mean_reward:.2f} +/- {std_reward:.2f}\")"
      ],
      "execution_count": 0,
      "outputs": []
    },
    {
      "cell_type": "code",
      "metadata": {
        "id": "fSYAIJDi5Raq",
        "colab_type": "code",
        "colab": {}
      },
      "source": [
        "# model training\n",
        "model.learn(total_timesteps=5 * 10**4, reset_num_timesteps=False)"
      ],
      "execution_count": 0,
      "outputs": []
    },
    {
      "cell_type": "code",
      "metadata": {
        "id": "lX6_VHtgQvyT",
        "colab_type": "code",
        "colab": {}
      },
      "source": [
        "# model training and save the best model\n",
        "model.learn(total_timesteps=5 * 10**4, reset_num_timesteps=False, callback=eval_callback)"
      ],
      "execution_count": 0,
      "outputs": []
    },
    {
      "cell_type": "code",
      "metadata": {
        "id": "iiDcQ83xQv3H",
        "colab_type": "code",
        "outputId": "51274cb7-8556-4036-a68c-23dd166622bf",
        "colab": {
          "base_uri": "https://localhost:8080/",
          "height": 298
        }
      },
      "source": [
        "env = gym.make(\"Futbol2v2-v1\")\n",
        "test_model(env, model, vis=True)"
      ],
      "execution_count": 32,
      "outputs": [
        {
          "output_type": "execute_result",
          "data": {
            "text/plain": [
              "812.4024796183503"
            ]
          },
          "metadata": {
            "tags": []
          },
          "execution_count": 32
        },
        {
          "output_type": "display_data",
          "data": {
            "image/png": "[encoded data removed]",
            "text/plain": [
              "<Figure size 432x288 with 1 Axes>"
            ]
          },
          "metadata": {
            "tags": [],
            "needs_background": "light"
          }
        }
      ]
    },
    {
      "cell_type": "code",
      "metadata": {
        "id": "TVJwfkY8iBnm",
        "colab_type": "code",
        "colab": {}
      },
      "source": [
        "env = gym.make(\"Futbol2v2-v1\")\n",
        "mean_reward, std_reward = evaluate_policy(model, env, n_eval_episodes=10)\n",
        "print(f\"mean_reward:{mean_reward:.2f} +/- {std_reward:.2f}\")"
      ],
      "execution_count": 0,
      "outputs": []
    },
    {
      "cell_type": "code",
      "metadata": {
        "id": "kAUUpuKrz13S",
        "colab_type": "code",
        "colab": {}
      },
      "source": [
        "# visualize the saved training process\n",
        "%tensorboard --logdir /content/PPO2_Futbol2v2_tensorboard/"
      ],
      "execution_count": 0,
      "outputs": []
    },
    {
      "cell_type": "markdown",
      "metadata": {
        "id": "eYOKoKlVDt3T",
        "colab_type": "text"
      },
      "source": [
        "# Load Best\n",
        "The best model saved by the callback function. Be careful about the correct path."
      ]
    },
    {
      "cell_type": "code",
      "metadata": {
        "colab_type": "code",
        "id": "_j31ssUxEcoh",
        "colab": {}
      },
      "source": [
        "best_model = PPO2.load(\"logs/best_model\")"
      ],
      "execution_count": 0,
      "outputs": []
    },
    {
      "cell_type": "code",
      "metadata": {
        "colab_type": "code",
        "outputId": "2d4f32a5-6d41-450a-e7e9-65a798ab6426",
        "id": "M0h8nkPLNXFC",
        "colab": {
          "base_uri": "https://localhost:8080/",
          "height": 298
        }
      },
      "source": [
        "env = gym.make(\"Futbol2v2-v1\")\n",
        "test_model(env, best_model, vis=True)"
      ],
      "execution_count": 36,
      "outputs": [
        {
          "output_type": "execute_result",
          "data": {
            "text/plain": [
              "680.8950513729543"
            ]
          },
          "metadata": {
            "tags": []
          },
          "execution_count": 36
        },
        {
          "output_type": "display_data",
          "data": {
            "image/png": "[encoded data removed]",
            "text/plain": [
              "<Figure size 432x288 with 1 Axes>"
            ]
          },
          "metadata": {
            "tags": [],
            "needs_background": "light"
          }
        }
      ]
    },
    {
      "cell_type": "code",
      "metadata": {
        "colab_type": "code",
        "id": "IcWQRgYyNXFG",
        "colab": {}
      },
      "source": [
        "env = gym.make(\"Futbol2v2-v1\")\n",
        "mean_reward, std_reward = evaluate_policy(best_model, env, n_eval_episodes=10)\n",
        "print(f\"mean_reward:{mean_reward:.2f} +/- {std_reward:.2f}\")"
      ],
      "execution_count": 0,
      "outputs": []
    }
  ]
}